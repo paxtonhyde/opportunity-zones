{
 "cells": [
  {
   "cell_type": "markdown",
   "metadata": {},
   "source": [
    "Note: fancyimpute requires tensorflow, run in docker container!"
   ]
  },
  {
   "cell_type": "code",
   "execution_count": 1,
   "metadata": {},
   "outputs": [
    {
     "name": "stderr",
     "output_type": "stream",
     "text": [
      "Using TensorFlow backend.\n"
     ]
    }
   ],
   "source": [
    "import pandas as pd\n",
    "import numpy as np\n",
    "import fancyimpute"
   ]
  },
  {
   "cell_type": "code",
   "execution_count": 2,
   "metadata": {},
   "outputs": [],
   "source": [
    "import os\n",
    "this_directory = os.path.realpath(\".\")\n",
    "home_directory = os.path.split(this_directory)[0]\n",
    "data_directory = os.path.join(home_directory, \"data\")"
   ]
  },
  {
   "cell_type": "code",
   "execution_count": 4,
   "metadata": {},
   "outputs": [
    {
     "name": "stdout",
     "output_type": "stream",
     "text": [
      "<class 'pandas.core.frame.DataFrame'>\n",
      "Int64Index: 8685 entries, 0 to 8763\n",
      "Data columns (total 16 columns):\n",
      "population_total           8685 non-null float64\n",
      "age_median                 8682 non-null float64\n",
      "p_never_married            8685 non-null float64\n",
      "p_white                    8685 non-null float64\n",
      "p_black                    8685 non-null float64\n",
      "p_poverty                  8685 non-null float64\n",
      "household_income_median    8657 non-null float64\n",
      "home_value_median          8382 non-null float64\n",
      "structure_year_median      8661 non-null float64\n",
      "p_outofcountyflux          7822 non-null float64\n",
      "p_pop_renting              8679 non-null float64\n",
      "p_units_vacant             8679 non-null float64\n",
      "p_mobilehomes              8679 non-null float64\n",
      "p_multiple_unit_strucs     8679 non-null float64\n",
      "state                      8685 non-null object\n",
      "tract                      8685 non-null object\n",
      "dtypes: float64(14), object(2)\n",
      "memory usage: 1.1+ MB\n"
     ]
    }
   ],
   "source": [
    "features = pd.read_pickle(\"{}/qozs_features.pkl\".format(data_directory))\n",
    "features.info()"
   ]
  },
  {
   "cell_type": "code",
   "execution_count": 5,
   "metadata": {},
   "outputs": [
    {
     "name": "stdout",
     "output_type": "stream",
     "text": [
      "8685 should equal 8685\n"
     ]
    }
   ],
   "source": [
    "non_nans = features[features.notna().all(axis=1)] ## 7702 w/o nans, 985 w/nans\n",
    "nan_lines = features[features.isna().any(axis=1)]\n",
    "print(len(features), 'should equal', len(non_nans) + len(nan_lines))"
   ]
  },
  {
   "cell_type": "code",
   "execution_count": 6,
   "metadata": {},
   "outputs": [
    {
     "name": "stdout",
     "output_type": "stream",
     "text": [
      "<class 'pandas.core.frame.DataFrame'>\n",
      "RangeIndex: 7822 entries, 0 to 7821\n",
      "Data columns (total 16 columns):\n",
      "population_total           7822 non-null float64\n",
      "age_median                 7820 non-null float64\n",
      "p_never_married            7822 non-null float64\n",
      "p_white                    7822 non-null float64\n",
      "p_black                    7822 non-null float64\n",
      "p_poverty                  7822 non-null float64\n",
      "household_income_median    7798 non-null float64\n",
      "home_value_median          7528 non-null float64\n",
      "structure_year_median      7800 non-null float64\n",
      "p_outofcountyflux          7758 non-null float64\n",
      "p_pop_renting              7816 non-null float64\n",
      "p_units_vacant             7816 non-null float64\n",
      "p_mobilehomes              7816 non-null float64\n",
      "p_multiple_unit_strucs     7816 non-null float64\n",
      "state                      7822 non-null object\n",
      "tract                      7822 non-null object\n",
      "dtypes: float64(14), object(2)\n",
      "memory usage: 977.8+ KB\n"
     ]
    }
   ],
   "source": [
    "state_number = [n[:2] for n in features['tract'].values]\n",
    "PR_indexes = np.argwhere(np.array(state_number) == '72').reshape(-1)\n",
    "not_PR = features.drop(PR_indexes)\n",
    "not_PR.reset_index(inplace=True, drop=True)\n",
    "not_PR.info()"
   ]
  },
  {
   "cell_type": "markdown",
   "metadata": {},
   "source": [
    "## imputation"
   ]
  },
  {
   "cell_type": "code",
   "execution_count": 7,
   "metadata": {},
   "outputs": [],
   "source": [
    "from fancyimpute import KNN"
   ]
  },
  {
   "cell_type": "code",
   "execution_count": 8,
   "metadata": {},
   "outputs": [],
   "source": [
    "tract = not_PR['tract']\n",
    "incomplete = not_PR.drop(columns=['state','tract'])"
   ]
  },
  {
   "cell_type": "code",
   "execution_count": 9,
   "metadata": {},
   "outputs": [
    {
     "name": "stderr",
     "output_type": "stream",
     "text": [
      "/usr/local/lib/python3.5/dist-packages/numpy/core/fromnumeric.py:56: FutureWarning: Series.nonzero() is deprecated and will be removed in a future version.Use Series.to_numpy().nonzero() instead\n",
      "  return getattr(obj, method)(*args, **kwds)\n"
     ]
    }
   ],
   "source": [
    "## make this better\n",
    "missing_indexes = {}\n",
    "for c in incomplete.columns:\n",
    "    if incomplete[c].isna().any():\n",
    "        missing_indexes[c] = np.argwhere(incomplete[c].isna()).reshape(-1)"
   ]
  },
  {
   "cell_type": "code",
   "execution_count": 10,
   "metadata": {},
   "outputs": [
    {
     "name": "stdout",
     "output_type": "stream",
     "text": [
      "22 missing structure_year_median values.\n",
      "294 missing home_value_median values.\n",
      "6 missing p_multiple_unit_strucs values.\n",
      "64 missing p_outofcountyflux values.\n",
      "24 missing household_income_median values.\n",
      "2 missing age_median values.\n",
      "6 missing p_units_vacant values.\n",
      "6 missing p_mobilehomes values.\n",
      "6 missing p_pop_renting values.\n"
     ]
    }
   ],
   "source": [
    "for c in missing_indexes.keys():\n",
    "    print('{} missing {} values.'.format(len(missing_indexes[c]), c))"
   ]
  },
  {
   "cell_type": "code",
   "execution_count": 11,
   "metadata": {},
   "outputs": [
    {
     "name": "stdout",
     "output_type": "stream",
     "text": [
      "Imputing row 1/7822 with 0 missing, elapsed time: 12.629\n",
      "Imputing row 101/7822 with 0 missing, elapsed time: 12.630\n",
      "Imputing row 201/7822 with 0 missing, elapsed time: 12.631\n",
      "Imputing row 301/7822 with 0 missing, elapsed time: 12.633\n",
      "Imputing row 401/7822 with 0 missing, elapsed time: 12.634\n",
      "Imputing row 501/7822 with 0 missing, elapsed time: 12.635\n",
      "Imputing row 601/7822 with 0 missing, elapsed time: 12.636\n",
      "Imputing row 701/7822 with 1 missing, elapsed time: 12.637\n",
      "Imputing row 801/7822 with 0 missing, elapsed time: 12.639\n",
      "Imputing row 901/7822 with 0 missing, elapsed time: 12.641\n",
      "Imputing row 1001/7822 with 0 missing, elapsed time: 12.643\n",
      "Imputing row 1101/7822 with 0 missing, elapsed time: 12.644\n",
      "Imputing row 1201/7822 with 0 missing, elapsed time: 12.645\n",
      "Imputing row 1301/7822 with 1 missing, elapsed time: 12.646\n",
      "Imputing row 1401/7822 with 0 missing, elapsed time: 12.647\n",
      "Imputing row 1501/7822 with 0 missing, elapsed time: 12.648\n",
      "Imputing row 1601/7822 with 0 missing, elapsed time: 12.649\n",
      "Imputing row 1701/7822 with 1 missing, elapsed time: 12.651\n",
      "Imputing row 1801/7822 with 0 missing, elapsed time: 12.653\n",
      "Imputing row 1901/7822 with 0 missing, elapsed time: 12.653\n",
      "Imputing row 2001/7822 with 0 missing, elapsed time: 12.654\n",
      "Imputing row 2101/7822 with 0 missing, elapsed time: 12.656\n",
      "Imputing row 2201/7822 with 0 missing, elapsed time: 12.657\n",
      "Imputing row 2301/7822 with 0 missing, elapsed time: 12.658\n",
      "Imputing row 2401/7822 with 0 missing, elapsed time: 12.660\n",
      "Imputing row 2501/7822 with 0 missing, elapsed time: 12.661\n",
      "Imputing row 2601/7822 with 0 missing, elapsed time: 12.662\n",
      "Imputing row 2701/7822 with 0 missing, elapsed time: 12.663\n",
      "Imputing row 2801/7822 with 0 missing, elapsed time: 12.663\n",
      "Imputing row 2901/7822 with 0 missing, elapsed time: 12.664\n",
      "Imputing row 3001/7822 with 0 missing, elapsed time: 12.668\n",
      "Imputing row 3101/7822 with 0 missing, elapsed time: 12.669\n",
      "Imputing row 3201/7822 with 0 missing, elapsed time: 12.669\n",
      "Imputing row 3301/7822 with 0 missing, elapsed time: 12.670\n",
      "Imputing row 3401/7822 with 0 missing, elapsed time: 12.670\n",
      "Imputing row 3501/7822 with 1 missing, elapsed time: 12.672\n",
      "Imputing row 3601/7822 with 0 missing, elapsed time: 12.676\n",
      "Imputing row 3701/7822 with 0 missing, elapsed time: 12.678\n",
      "Imputing row 3801/7822 with 0 missing, elapsed time: 12.679\n",
      "Imputing row 3901/7822 with 0 missing, elapsed time: 12.680\n",
      "Imputing row 4001/7822 with 0 missing, elapsed time: 12.682\n",
      "Imputing row 4101/7822 with 0 missing, elapsed time: 12.683\n",
      "Imputing row 4201/7822 with 0 missing, elapsed time: 12.683\n",
      "Imputing row 4301/7822 with 0 missing, elapsed time: 12.684\n",
      "Imputing row 4401/7822 with 0 missing, elapsed time: 12.686\n",
      "Imputing row 4501/7822 with 0 missing, elapsed time: 12.687\n",
      "Imputing row 4601/7822 with 0 missing, elapsed time: 12.688\n",
      "Imputing row 4701/7822 with 0 missing, elapsed time: 12.692\n",
      "Imputing row 4801/7822 with 0 missing, elapsed time: 12.694\n",
      "Imputing row 4901/7822 with 0 missing, elapsed time: 12.695\n",
      "Imputing row 5001/7822 with 1 missing, elapsed time: 12.698\n",
      "Imputing row 5101/7822 with 0 missing, elapsed time: 12.700\n",
      "Imputing row 5201/7822 with 0 missing, elapsed time: 12.701\n",
      "Imputing row 5301/7822 with 0 missing, elapsed time: 12.702\n",
      "Imputing row 5401/7822 with 0 missing, elapsed time: 12.703\n",
      "Imputing row 5501/7822 with 0 missing, elapsed time: 12.704\n",
      "Imputing row 5601/7822 with 0 missing, elapsed time: 12.706\n",
      "Imputing row 5701/7822 with 0 missing, elapsed time: 12.707\n",
      "Imputing row 5801/7822 with 0 missing, elapsed time: 12.709\n",
      "Imputing row 5901/7822 with 0 missing, elapsed time: 12.709\n",
      "Imputing row 6001/7822 with 0 missing, elapsed time: 12.711\n",
      "Imputing row 6101/7822 with 0 missing, elapsed time: 12.712\n",
      "Imputing row 6201/7822 with 1 missing, elapsed time: 12.717\n",
      "Imputing row 6301/7822 with 0 missing, elapsed time: 12.719\n",
      "Imputing row 6401/7822 with 0 missing, elapsed time: 12.720\n",
      "Imputing row 6501/7822 with 0 missing, elapsed time: 12.720\n",
      "Imputing row 6601/7822 with 0 missing, elapsed time: 12.723\n",
      "Imputing row 6701/7822 with 0 missing, elapsed time: 12.725\n",
      "Imputing row 6801/7822 with 0 missing, elapsed time: 12.725\n",
      "Imputing row 6901/7822 with 0 missing, elapsed time: 12.727\n",
      "Imputing row 7001/7822 with 0 missing, elapsed time: 12.728\n",
      "Imputing row 7101/7822 with 0 missing, elapsed time: 12.728\n",
      "Imputing row 7201/7822 with 0 missing, elapsed time: 12.731\n",
      "Imputing row 7301/7822 with 0 missing, elapsed time: 12.732\n",
      "Imputing row 7401/7822 with 0 missing, elapsed time: 12.733\n",
      "Imputing row 7501/7822 with 0 missing, elapsed time: 12.734\n",
      "Imputing row 7601/7822 with 0 missing, elapsed time: 12.734\n",
      "Imputing row 7701/7822 with 0 missing, elapsed time: 12.735\n",
      "Imputing row 7801/7822 with 1 missing, elapsed time: 12.736\n"
     ]
    }
   ],
   "source": [
    "fill = KNN(k=3).fit_transform(incomplete.values)"
   ]
  },
  {
   "cell_type": "code",
   "execution_count": 20,
   "metadata": {},
   "outputs": [
    {
     "data": {
      "text/html": [
       "<div>\n",
       "<style scoped>\n",
       "    .dataframe tbody tr th:only-of-type {\n",
       "        vertical-align: middle;\n",
       "    }\n",
       "\n",
       "    .dataframe tbody tr th {\n",
       "        vertical-align: top;\n",
       "    }\n",
       "\n",
       "    .dataframe thead th {\n",
       "        text-align: right;\n",
       "    }\n",
       "</style>\n",
       "<table border=\"1\" class=\"dataframe\">\n",
       "  <thead>\n",
       "    <tr style=\"text-align: right;\">\n",
       "      <th></th>\n",
       "      <th>population_total</th>\n",
       "      <th>age_median</th>\n",
       "      <th>p_never_married</th>\n",
       "      <th>p_white</th>\n",
       "      <th>p_black</th>\n",
       "      <th>p_poverty</th>\n",
       "      <th>household_income_median</th>\n",
       "      <th>home_value_median</th>\n",
       "      <th>structure_year_median</th>\n",
       "      <th>p_outofcountyflux</th>\n",
       "      <th>p_pop_renting</th>\n",
       "      <th>p_units_vacant</th>\n",
       "      <th>p_mobilehomes</th>\n",
       "      <th>p_multiple_unit_strucs</th>\n",
       "    </tr>\n",
       "  </thead>\n",
       "  <tbody>\n",
       "    <tr>\n",
       "      <th>0</th>\n",
       "      <td>2761.0</td>\n",
       "      <td>36.3</td>\n",
       "      <td>0.252</td>\n",
       "      <td>0.775</td>\n",
       "      <td>0.204</td>\n",
       "      <td>0.289</td>\n",
       "      <td>34821.0</td>\n",
       "      <td>94100.0</td>\n",
       "      <td>1980.0</td>\n",
       "      <td>0.891</td>\n",
       "      <td>0.350</td>\n",
       "      <td>0.117</td>\n",
       "      <td>0.468</td>\n",
       "      <td>0.515</td>\n",
       "    </tr>\n",
       "    <tr>\n",
       "      <th>1</th>\n",
       "      <td>2869.0</td>\n",
       "      <td>40.1</td>\n",
       "      <td>0.199</td>\n",
       "      <td>0.865</td>\n",
       "      <td>0.104</td>\n",
       "      <td>0.288</td>\n",
       "      <td>31390.0</td>\n",
       "      <td>127600.0</td>\n",
       "      <td>1988.0</td>\n",
       "      <td>0.969</td>\n",
       "      <td>0.201</td>\n",
       "      <td>0.134</td>\n",
       "      <td>0.245</td>\n",
       "      <td>0.332</td>\n",
       "    </tr>\n",
       "    <tr>\n",
       "      <th>2</th>\n",
       "      <td>4537.0</td>\n",
       "      <td>43.0</td>\n",
       "      <td>0.235</td>\n",
       "      <td>0.915</td>\n",
       "      <td>0.044</td>\n",
       "      <td>0.149</td>\n",
       "      <td>44985.0</td>\n",
       "      <td>130300.0</td>\n",
       "      <td>1991.0</td>\n",
       "      <td>0.946</td>\n",
       "      <td>0.154</td>\n",
       "      <td>0.173</td>\n",
       "      <td>0.247</td>\n",
       "      <td>0.247</td>\n",
       "    </tr>\n",
       "    <tr>\n",
       "      <th>3</th>\n",
       "      <td>5321.0</td>\n",
       "      <td>41.5</td>\n",
       "      <td>0.255</td>\n",
       "      <td>0.842</td>\n",
       "      <td>0.129</td>\n",
       "      <td>0.179</td>\n",
       "      <td>41944.0</td>\n",
       "      <td>131100.0</td>\n",
       "      <td>1975.0</td>\n",
       "      <td>0.929</td>\n",
       "      <td>0.321</td>\n",
       "      <td>0.147</td>\n",
       "      <td>0.010</td>\n",
       "      <td>0.172</td>\n",
       "    </tr>\n",
       "    <tr>\n",
       "      <th>4</th>\n",
       "      <td>3398.0</td>\n",
       "      <td>29.3</td>\n",
       "      <td>0.431</td>\n",
       "      <td>0.375</td>\n",
       "      <td>0.625</td>\n",
       "      <td>0.220</td>\n",
       "      <td>27587.0</td>\n",
       "      <td>92300.0</td>\n",
       "      <td>1978.0</td>\n",
       "      <td>0.981</td>\n",
       "      <td>0.434</td>\n",
       "      <td>0.185</td>\n",
       "      <td>0.199</td>\n",
       "      <td>0.410</td>\n",
       "    </tr>\n",
       "  </tbody>\n",
       "</table>\n",
       "</div>"
      ],
      "text/plain": [
       "   population_total  age_median  p_never_married  p_white  p_black  p_poverty  \\\n",
       "0            2761.0        36.3            0.252    0.775    0.204      0.289   \n",
       "1            2869.0        40.1            0.199    0.865    0.104      0.288   \n",
       "2            4537.0        43.0            0.235    0.915    0.044      0.149   \n",
       "3            5321.0        41.5            0.255    0.842    0.129      0.179   \n",
       "4            3398.0        29.3            0.431    0.375    0.625      0.220   \n",
       "\n",
       "   household_income_median  home_value_median  structure_year_median  \\\n",
       "0                  34821.0            94100.0                 1980.0   \n",
       "1                  31390.0           127600.0                 1988.0   \n",
       "2                  44985.0           130300.0                 1991.0   \n",
       "3                  41944.0           131100.0                 1975.0   \n",
       "4                  27587.0            92300.0                 1978.0   \n",
       "\n",
       "   p_outofcountyflux  p_pop_renting  p_units_vacant  p_mobilehomes  \\\n",
       "0              0.891          0.350           0.117          0.468   \n",
       "1              0.969          0.201           0.134          0.245   \n",
       "2              0.946          0.154           0.173          0.247   \n",
       "3              0.929          0.321           0.147          0.010   \n",
       "4              0.981          0.434           0.185          0.199   \n",
       "\n",
       "   p_multiple_unit_strucs  \n",
       "0                   0.515  \n",
       "1                   0.332  \n",
       "2                   0.247  \n",
       "3                   0.172  \n",
       "4                   0.410  "
      ]
     },
     "execution_count": 20,
     "metadata": {},
     "output_type": "execute_result"
    }
   ],
   "source": [
    "filled = pd.DataFrame(fill, columns = incomplete.columns)\n",
    "filled.head()\n",
    "## note: still need to round values"
   ]
  },
  {
   "cell_type": "code",
   "execution_count": 21,
   "metadata": {},
   "outputs": [
    {
     "data": {
      "text/plain": [
       "901     47.134154\n",
       "3818    42.414513\n",
       "Name: age_median, dtype: float64"
      ]
     },
     "execution_count": 21,
     "metadata": {},
     "output_type": "execute_result"
    }
   ],
   "source": [
    "filled.iloc[missing_indexes['age_median']]['age_median']"
   ]
  },
  {
   "cell_type": "code",
   "execution_count": 22,
   "metadata": {},
   "outputs": [
    {
     "data": {
      "text/plain": [
       "{'age_median': 9.558029245823242,\n",
       " 'home_value_median': 1708.5779606915312,\n",
       " 'household_income_median': 2422.0081322318583,\n",
       " 'p_mobilehomes': 0.034053285915867856,\n",
       " 'p_multiple_unit_strucs': 0.06120604432144533,\n",
       " 'p_outofcountyflux': 0.17213259507362,\n",
       " 'p_pop_renting': 0.14611761658593347,\n",
       " 'p_units_vacant': 0.019777412209502326,\n",
       " 'structure_year_median': 1.4639213670716344}"
      ]
     },
     "execution_count": 22,
     "metadata": {},
     "output_type": "execute_result"
    }
   ],
   "source": [
    "imputed_values = {}\n",
    "delta_imputed_mean = {}\n",
    "for c in missing_indexes.keys():\n",
    "    imputed_values[c] = filled[c].iloc[missing_indexes[c]].values\n",
    "    delta_imputed_mean[c] = abs(np.mean(imputed_values[c]) - np.mean(incomplete[c]))\n",
    "delta_imputed_mean"
   ]
  },
  {
   "cell_type": "code",
   "execution_count": 23,
   "metadata": {},
   "outputs": [
    {
     "name": "stdout",
     "output_type": "stream",
     "text": [
      "<class 'pandas.core.frame.DataFrame'>\n",
      "RangeIndex: 7822 entries, 0 to 7821\n",
      "Data columns (total 15 columns):\n",
      "population_total           7822 non-null float64\n",
      "age_median                 7822 non-null float64\n",
      "p_never_married            7822 non-null float64\n",
      "p_white                    7822 non-null float64\n",
      "p_black                    7822 non-null float64\n",
      "p_poverty                  7822 non-null float64\n",
      "household_income_median    7822 non-null float64\n",
      "home_value_median          7822 non-null float64\n",
      "structure_year_median      7822 non-null float64\n",
      "p_outofcountyflux          7822 non-null float64\n",
      "p_pop_renting              7822 non-null float64\n",
      "p_units_vacant             7822 non-null float64\n",
      "p_mobilehomes              7822 non-null float64\n",
      "p_multiple_unit_strucs     7822 non-null float64\n",
      "tract                      7822 non-null object\n",
      "dtypes: float64(14), object(1)\n",
      "memory usage: 916.7+ KB\n"
     ]
    }
   ],
   "source": [
    "# replace the tract numbers\n",
    "filled['tract'] = tract\n",
    "filled.info()"
   ]
  },
  {
   "cell_type": "code",
   "execution_count": 24,
   "metadata": {},
   "outputs": [
    {
     "data": {
      "text/html": [
       "<div>\n",
       "<style scoped>\n",
       "    .dataframe tbody tr th:only-of-type {\n",
       "        vertical-align: middle;\n",
       "    }\n",
       "\n",
       "    .dataframe tbody tr th {\n",
       "        vertical-align: top;\n",
       "    }\n",
       "\n",
       "    .dataframe thead th {\n",
       "        text-align: right;\n",
       "    }\n",
       "</style>\n",
       "<table border=\"1\" class=\"dataframe\">\n",
       "  <thead>\n",
       "    <tr style=\"text-align: right;\">\n",
       "      <th></th>\n",
       "      <th>population_total</th>\n",
       "      <th>age_median</th>\n",
       "      <th>p_never_married</th>\n",
       "      <th>p_white</th>\n",
       "      <th>p_black</th>\n",
       "      <th>p_poverty</th>\n",
       "      <th>household_income_median</th>\n",
       "      <th>home_value_median</th>\n",
       "      <th>structure_year_median</th>\n",
       "      <th>p_outofcountyflux</th>\n",
       "      <th>p_pop_renting</th>\n",
       "      <th>p_units_vacant</th>\n",
       "      <th>p_mobilehomes</th>\n",
       "      <th>p_multiple_unit_strucs</th>\n",
       "      <th>tract</th>\n",
       "      <th>Non-LIC</th>\n",
       "    </tr>\n",
       "  </thead>\n",
       "  <tbody>\n",
       "    <tr>\n",
       "      <th>0</th>\n",
       "      <td>2761.0</td>\n",
       "      <td>36.3</td>\n",
       "      <td>0.252</td>\n",
       "      <td>0.775</td>\n",
       "      <td>0.204</td>\n",
       "      <td>0.289</td>\n",
       "      <td>34821.0</td>\n",
       "      <td>94100.0</td>\n",
       "      <td>1980.0</td>\n",
       "      <td>0.891</td>\n",
       "      <td>0.350</td>\n",
       "      <td>0.117</td>\n",
       "      <td>0.468</td>\n",
       "      <td>0.515</td>\n",
       "      <td>01001020700</td>\n",
       "      <td>0</td>\n",
       "    </tr>\n",
       "    <tr>\n",
       "      <th>1</th>\n",
       "      <td>2869.0</td>\n",
       "      <td>40.1</td>\n",
       "      <td>0.199</td>\n",
       "      <td>0.865</td>\n",
       "      <td>0.104</td>\n",
       "      <td>0.288</td>\n",
       "      <td>31390.0</td>\n",
       "      <td>127600.0</td>\n",
       "      <td>1988.0</td>\n",
       "      <td>0.969</td>\n",
       "      <td>0.201</td>\n",
       "      <td>0.134</td>\n",
       "      <td>0.245</td>\n",
       "      <td>0.332</td>\n",
       "      <td>01003010200</td>\n",
       "      <td>0</td>\n",
       "    </tr>\n",
       "    <tr>\n",
       "      <th>2</th>\n",
       "      <td>4537.0</td>\n",
       "      <td>43.0</td>\n",
       "      <td>0.235</td>\n",
       "      <td>0.915</td>\n",
       "      <td>0.044</td>\n",
       "      <td>0.149</td>\n",
       "      <td>44985.0</td>\n",
       "      <td>130300.0</td>\n",
       "      <td>1991.0</td>\n",
       "      <td>0.946</td>\n",
       "      <td>0.154</td>\n",
       "      <td>0.173</td>\n",
       "      <td>0.247</td>\n",
       "      <td>0.247</td>\n",
       "      <td>01003010400</td>\n",
       "      <td>1</td>\n",
       "    </tr>\n",
       "    <tr>\n",
       "      <th>3</th>\n",
       "      <td>5321.0</td>\n",
       "      <td>41.5</td>\n",
       "      <td>0.255</td>\n",
       "      <td>0.842</td>\n",
       "      <td>0.129</td>\n",
       "      <td>0.179</td>\n",
       "      <td>41944.0</td>\n",
       "      <td>131100.0</td>\n",
       "      <td>1975.0</td>\n",
       "      <td>0.929</td>\n",
       "      <td>0.321</td>\n",
       "      <td>0.147</td>\n",
       "      <td>0.010</td>\n",
       "      <td>0.172</td>\n",
       "      <td>01003010500</td>\n",
       "      <td>0</td>\n",
       "    </tr>\n",
       "    <tr>\n",
       "      <th>4</th>\n",
       "      <td>3398.0</td>\n",
       "      <td>29.3</td>\n",
       "      <td>0.431</td>\n",
       "      <td>0.375</td>\n",
       "      <td>0.625</td>\n",
       "      <td>0.220</td>\n",
       "      <td>27587.0</td>\n",
       "      <td>92300.0</td>\n",
       "      <td>1978.0</td>\n",
       "      <td>0.981</td>\n",
       "      <td>0.434</td>\n",
       "      <td>0.185</td>\n",
       "      <td>0.199</td>\n",
       "      <td>0.410</td>\n",
       "      <td>01003010600</td>\n",
       "      <td>0</td>\n",
       "    </tr>\n",
       "  </tbody>\n",
       "</table>\n",
       "</div>"
      ],
      "text/plain": [
       "   population_total  age_median  p_never_married  p_white  p_black  p_poverty  \\\n",
       "0            2761.0        36.3            0.252    0.775    0.204      0.289   \n",
       "1            2869.0        40.1            0.199    0.865    0.104      0.288   \n",
       "2            4537.0        43.0            0.235    0.915    0.044      0.149   \n",
       "3            5321.0        41.5            0.255    0.842    0.129      0.179   \n",
       "4            3398.0        29.3            0.431    0.375    0.625      0.220   \n",
       "\n",
       "   household_income_median  home_value_median  structure_year_median  \\\n",
       "0                  34821.0            94100.0                 1980.0   \n",
       "1                  31390.0           127600.0                 1988.0   \n",
       "2                  44985.0           130300.0                 1991.0   \n",
       "3                  41944.0           131100.0                 1975.0   \n",
       "4                  27587.0            92300.0                 1978.0   \n",
       "\n",
       "   p_outofcountyflux  p_pop_renting  p_units_vacant  p_mobilehomes  \\\n",
       "0              0.891          0.350           0.117          0.468   \n",
       "1              0.969          0.201           0.134          0.245   \n",
       "2              0.946          0.154           0.173          0.247   \n",
       "3              0.929          0.321           0.147          0.010   \n",
       "4              0.981          0.434           0.185          0.199   \n",
       "\n",
       "   p_multiple_unit_strucs        tract  Non-LIC  \n",
       "0                   0.515  01001020700        0  \n",
       "1                   0.332  01003010200        0  \n",
       "2                   0.247  01003010400        1  \n",
       "3                   0.172  01003010500        0  \n",
       "4                   0.410  01003010600        0  "
      ]
     },
     "execution_count": 24,
     "metadata": {},
     "output_type": "execute_result"
    }
   ],
   "source": [
    "# add LIC column back\n",
    "LIC_one = pd.read_pickle(\"{}/qozs_1.pkl\".format(data_directory))[['census_tract_number', 'Non-LIC']]\n",
    "LIC_two = LIC_one.rename(columns={'census_tract_number':'tract'})\n",
    "filled = filled.merge(LIC_two, how='left', on='tract')\n",
    "filled.head()"
   ]
  },
  {
   "cell_type": "code",
   "execution_count": 18,
   "metadata": {},
   "outputs": [],
   "source": [
    "filled.to_pickle(\"{}/qoz_model.pkl\".format(data_directory))"
   ]
  }
 ],
 "metadata": {
  "kernelspec": {
   "display_name": "Python 3",
   "language": "python",
   "name": "python3"
  },
  "language_info": {
   "codemirror_mode": {
    "name": "ipython",
    "version": 3
   },
   "file_extension": ".py",
   "mimetype": "text/x-python",
   "name": "python",
   "nbconvert_exporter": "python",
   "pygments_lexer": "ipython3",
   "version": "3.5.2"
  }
 },
 "nbformat": 4,
 "nbformat_minor": 4
}
