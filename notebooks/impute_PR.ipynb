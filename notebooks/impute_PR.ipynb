{
 "cells": [
  {
   "cell_type": "markdown",
   "metadata": {},
   "source": [
    "Note: fancyimpute requires tensorflow, run in docker container!"
   ]
  },
  {
   "cell_type": "code",
   "execution_count": 2,
   "metadata": {},
   "outputs": [
    {
     "name": "stderr",
     "output_type": "stream",
     "text": [
      "Using TensorFlow backend.\n"
     ]
    }
   ],
   "source": [
    "import pandas as pd\n",
    "import numpy as np\n",
    "import fancyimpute"
   ]
  },
  {
   "cell_type": "code",
   "execution_count": 3,
   "metadata": {},
   "outputs": [],
   "source": [
    "import os\n",
    "this_directory = os.path.realpath(\".\")\n",
    "home_directory = os.path.split(this_directory)[0]\n",
    "data_directory = os.path.join(home_directory, \"data\")"
   ]
  },
  {
   "cell_type": "code",
   "execution_count": 4,
   "metadata": {},
   "outputs": [
    {
     "name": "stdout",
     "output_type": "stream",
     "text": [
      "<class 'pandas.core.frame.DataFrame'>\n",
      "Int64Index: 8685 entries, 0 to 8763\n",
      "Data columns (total 16 columns):\n",
      "population_total           8685 non-null float64\n",
      "age_median                 8682 non-null float64\n",
      "p_never_married            8685 non-null float64\n",
      "p_white                    8685 non-null float64\n",
      "p_black                    8685 non-null float64\n",
      "p_poverty                  8685 non-null float64\n",
      "household_income_median    8657 non-null float64\n",
      "home_value_median          8382 non-null float64\n",
      "structure_year_median      8661 non-null float64\n",
      "p_outofcountyflux          7822 non-null float64\n",
      "p_pop_renting              8679 non-null float64\n",
      "p_units_vacant             8679 non-null float64\n",
      "p_mobilehomes              8679 non-null float64\n",
      "p_multiple_unit_strucs     8679 non-null float64\n",
      "state                      8685 non-null object\n",
      "tract                      8685 non-null object\n",
      "dtypes: float64(14), object(2)\n",
      "memory usage: 1.1+ MB\n"
     ]
    }
   ],
   "source": [
    "features = pd.read_pickle(\"{}/qozs_features.pkl\".format(data_directory))\n",
    "features.info()"
   ]
  },
  {
   "cell_type": "code",
   "execution_count": 5,
   "metadata": {},
   "outputs": [
    {
     "name": "stdout",
     "output_type": "stream",
     "text": [
      "8685 should equal 8685\n"
     ]
    }
   ],
   "source": [
    "non_nans = features[features.notna().all(axis=1)] ## 7702 w/o nans, 985 w/nans\n",
    "nan_lines = features[features.isna().any(axis=1)]\n",
    "print(len(features), 'should equal', len(non_nans) + len(nan_lines))"
   ]
  },
  {
   "cell_type": "markdown",
   "metadata": {},
   "source": [
    "## imputation"
   ]
  },
  {
   "cell_type": "code",
   "execution_count": 6,
   "metadata": {},
   "outputs": [],
   "source": [
    "from fancyimpute import KNN"
   ]
  },
  {
   "cell_type": "code",
   "execution_count": 19,
   "metadata": {},
   "outputs": [
    {
     "data": {
      "text/plain": [
       "0       01001020700\n",
       "1       01003010200\n",
       "2       01003010400\n",
       "3       01003010500\n",
       "4       01003010600\n",
       "5       01003011501\n",
       "6       01003011502\n",
       "7       01005950100\n",
       "8       01007010002\n",
       "9       01009050500\n",
       "10      01011952200\n",
       "11      01013952800\n",
       "12      01015000700\n",
       "13      01015000800\n",
       "14      01015002101\n",
       "15      01017954300\n",
       "16      01019955900\n",
       "17      01021060102\n",
       "18      01023956800\n",
       "19      01025957902\n",
       "20      01027959000\n",
       "21      01029959600\n",
       "22      01031010900\n",
       "23      01033020200\n",
       "24      01035960400\n",
       "25      01037961000\n",
       "26      01039962000\n",
       "27      01039962700\n",
       "28      01041963700\n",
       "29      01043964800\n",
       "           ...     \n",
       "8655    55139002900\n",
       "8656    55139003300\n",
       "8657    55141010400\n",
       "8658    55141011200\n",
       "8659    55141011700\n",
       "8660    56001962800\n",
       "8661    56001963100\n",
       "8662    56001963400\n",
       "8663    56001963500\n",
       "8664    56001963700\n",
       "8665    56007967700\n",
       "8666    56009956600\n",
       "8667    56013000100\n",
       "8668    56013940100\n",
       "8669    56013940300\n",
       "8670    56015957800\n",
       "8671    56015958000\n",
       "8672    56017967800\n",
       "8673    56021000402\n",
       "8674    56021001502\n",
       "8675    56025000200\n",
       "8676    56025000800\n",
       "8677    56025001100\n",
       "8678    56025001200\n",
       "8679    56029965400\n",
       "8680    56031959100\n",
       "8681    56031959400\n",
       "8682    56037970903\n",
       "8683    56041975400\n",
       "8684    56043000301\n",
       "Name: tract, Length: 8685, dtype: object"
      ]
     },
     "execution_count": 19,
     "metadata": {},
     "output_type": "execute_result"
    }
   ],
   "source": [
    "tract_ns = features['tract'].reset_index(drop=True)\n",
    "incomplete = features.drop(columns=['state','tract', 'p_outofcountyflux'])\n",
    "tract_ns"
   ]
  },
  {
   "cell_type": "code",
   "execution_count": 8,
   "metadata": {},
   "outputs": [
    {
     "name": "stderr",
     "output_type": "stream",
     "text": [
      "/usr/local/lib/python3.5/dist-packages/numpy/core/fromnumeric.py:56: FutureWarning: Series.nonzero() is deprecated and will be removed in a future version.Use Series.to_numpy().nonzero() instead\n",
      "  return getattr(obj, method)(*args, **kwds)\n"
     ]
    }
   ],
   "source": [
    "## make this better\n",
    "missing_indexes = {}\n",
    "for c in incomplete.columns:\n",
    "    if incomplete[c].isna().any():\n",
    "        missing_indexes[c] = np.argwhere(incomplete[c].isna()).reshape(-1)"
   ]
  },
  {
   "cell_type": "code",
   "execution_count": 9,
   "metadata": {},
   "outputs": [
    {
     "name": "stdout",
     "output_type": "stream",
     "text": [
      "28 missing household_income_median values.\n",
      "6 missing p_mobilehomes values.\n",
      "3 missing age_median values.\n",
      "6 missing p_multiple_unit_strucs values.\n",
      "303 missing home_value_median values.\n",
      "6 missing p_pop_renting values.\n",
      "6 missing p_units_vacant values.\n",
      "24 missing structure_year_median values.\n"
     ]
    }
   ],
   "source": [
    "for c in missing_indexes.keys():\n",
    "    print('{} missing {} values.'.format(len(missing_indexes[c]), c))"
   ]
  },
  {
   "cell_type": "code",
   "execution_count": 10,
   "metadata": {},
   "outputs": [
    {
     "name": "stdout",
     "output_type": "stream",
     "text": [
      "Imputing row 1/8685 with 0 missing, elapsed time: 15.230\n",
      "Imputing row 101/8685 with 0 missing, elapsed time: 15.231\n",
      "Imputing row 201/8685 with 0 missing, elapsed time: 15.233\n",
      "Imputing row 301/8685 with 0 missing, elapsed time: 15.234\n",
      "Imputing row 401/8685 with 0 missing, elapsed time: 15.235\n",
      "Imputing row 501/8685 with 0 missing, elapsed time: 15.235\n",
      "Imputing row 601/8685 with 0 missing, elapsed time: 15.236\n",
      "Imputing row 701/8685 with 1 missing, elapsed time: 15.239\n",
      "Imputing row 801/8685 with 0 missing, elapsed time: 15.241\n",
      "Imputing row 901/8685 with 0 missing, elapsed time: 15.242\n",
      "Imputing row 1001/8685 with 0 missing, elapsed time: 15.244\n",
      "Imputing row 1101/8685 with 0 missing, elapsed time: 15.245\n",
      "Imputing row 1201/8685 with 0 missing, elapsed time: 15.247\n",
      "Imputing row 1301/8685 with 1 missing, elapsed time: 15.247\n",
      "Imputing row 1401/8685 with 0 missing, elapsed time: 15.248\n",
      "Imputing row 1501/8685 with 0 missing, elapsed time: 15.249\n",
      "Imputing row 1601/8685 with 0 missing, elapsed time: 15.251\n",
      "Imputing row 1701/8685 with 1 missing, elapsed time: 15.251\n",
      "Imputing row 1801/8685 with 0 missing, elapsed time: 15.253\n",
      "Imputing row 1901/8685 with 0 missing, elapsed time: 15.254\n",
      "Imputing row 2001/8685 with 0 missing, elapsed time: 15.255\n",
      "Imputing row 2101/8685 with 0 missing, elapsed time: 15.255\n",
      "Imputing row 2201/8685 with 0 missing, elapsed time: 15.258\n",
      "Imputing row 2301/8685 with 0 missing, elapsed time: 15.259\n",
      "Imputing row 2401/8685 with 0 missing, elapsed time: 15.261\n",
      "Imputing row 2501/8685 with 0 missing, elapsed time: 15.262\n",
      "Imputing row 2601/8685 with 0 missing, elapsed time: 15.263\n",
      "Imputing row 2701/8685 with 0 missing, elapsed time: 15.264\n",
      "Imputing row 2801/8685 with 0 missing, elapsed time: 15.264\n",
      "Imputing row 2901/8685 with 0 missing, elapsed time: 15.265\n",
      "Imputing row 3001/8685 with 0 missing, elapsed time: 15.267\n",
      "Imputing row 3101/8685 with 0 missing, elapsed time: 15.268\n",
      "Imputing row 3201/8685 with 0 missing, elapsed time: 15.268\n",
      "Imputing row 3301/8685 with 0 missing, elapsed time: 15.269\n",
      "Imputing row 3401/8685 with 0 missing, elapsed time: 15.270\n",
      "Imputing row 3501/8685 with 1 missing, elapsed time: 15.271\n",
      "Imputing row 3601/8685 with 0 missing, elapsed time: 15.275\n",
      "Imputing row 3701/8685 with 0 missing, elapsed time: 15.276\n",
      "Imputing row 3801/8685 with 0 missing, elapsed time: 15.278\n",
      "Imputing row 3901/8685 with 0 missing, elapsed time: 15.279\n",
      "Imputing row 4001/8685 with 0 missing, elapsed time: 15.280\n",
      "Imputing row 4101/8685 with 0 missing, elapsed time: 15.280\n",
      "Imputing row 4201/8685 with 0 missing, elapsed time: 15.281\n",
      "Imputing row 4301/8685 with 0 missing, elapsed time: 15.283\n",
      "Imputing row 4401/8685 with 0 missing, elapsed time: 15.284\n",
      "Imputing row 4501/8685 with 0 missing, elapsed time: 15.285\n",
      "Imputing row 4601/8685 with 0 missing, elapsed time: 15.285\n",
      "Imputing row 4701/8685 with 0 missing, elapsed time: 15.288\n",
      "Imputing row 4801/8685 with 0 missing, elapsed time: 15.290\n",
      "Imputing row 4901/8685 with 0 missing, elapsed time: 15.291\n",
      "Imputing row 5001/8685 with 1 missing, elapsed time: 15.293\n",
      "Imputing row 5101/8685 with 0 missing, elapsed time: 15.294\n",
      "Imputing row 5201/8685 with 0 missing, elapsed time: 15.295\n",
      "Imputing row 5301/8685 with 0 missing, elapsed time: 15.296\n",
      "Imputing row 5401/8685 with 0 missing, elapsed time: 15.297\n",
      "Imputing row 5501/8685 with 0 missing, elapsed time: 15.298\n",
      "Imputing row 5601/8685 with 0 missing, elapsed time: 15.300\n",
      "Imputing row 5701/8685 with 0 missing, elapsed time: 15.300\n",
      "Imputing row 5801/8685 with 0 missing, elapsed time: 15.302\n",
      "Imputing row 5901/8685 with 0 missing, elapsed time: 15.303\n",
      "Imputing row 6001/8685 with 0 missing, elapsed time: 15.304\n",
      "Imputing row 6101/8685 with 0 missing, elapsed time: 15.305\n",
      "Imputing row 6201/8685 with 0 missing, elapsed time: 15.306\n",
      "Imputing row 6301/8685 with 0 missing, elapsed time: 15.306\n",
      "Imputing row 6401/8685 with 0 missing, elapsed time: 15.306\n",
      "Imputing row 6501/8685 with 0 missing, elapsed time: 15.307\n",
      "Imputing row 6601/8685 with 0 missing, elapsed time: 15.307\n",
      "Imputing row 6701/8685 with 0 missing, elapsed time: 15.308\n",
      "Imputing row 6801/8685 with 0 missing, elapsed time: 15.308\n",
      "Imputing row 6901/8685 with 0 missing, elapsed time: 15.309\n",
      "Imputing row 7001/8685 with 0 missing, elapsed time: 15.311\n",
      "Imputing row 7101/8685 with 0 missing, elapsed time: 15.312\n",
      "Imputing row 7201/8685 with 0 missing, elapsed time: 15.312\n",
      "Imputing row 7301/8685 with 0 missing, elapsed time: 15.313\n",
      "Imputing row 7401/8685 with 0 missing, elapsed time: 15.315\n",
      "Imputing row 7501/8685 with 0 missing, elapsed time: 15.316\n",
      "Imputing row 7601/8685 with 0 missing, elapsed time: 15.318\n",
      "Imputing row 7701/8685 with 0 missing, elapsed time: 15.321\n",
      "Imputing row 7801/8685 with 0 missing, elapsed time: 15.322\n",
      "Imputing row 7901/8685 with 0 missing, elapsed time: 15.323\n",
      "Imputing row 8001/8685 with 0 missing, elapsed time: 15.325\n",
      "Imputing row 8101/8685 with 0 missing, elapsed time: 15.325\n",
      "Imputing row 8201/8685 with 0 missing, elapsed time: 15.326\n",
      "Imputing row 8301/8685 with 0 missing, elapsed time: 15.327\n",
      "Imputing row 8401/8685 with 0 missing, elapsed time: 15.328\n",
      "Imputing row 8501/8685 with 0 missing, elapsed time: 15.328\n",
      "Imputing row 8601/8685 with 0 missing, elapsed time: 15.329\n"
     ]
    }
   ],
   "source": [
    "fill = KNN(k=3).fit_transform(incomplete.values)"
   ]
  },
  {
   "cell_type": "code",
   "execution_count": 11,
   "metadata": {},
   "outputs": [
    {
     "name": "stdout",
     "output_type": "stream",
     "text": [
      "<class 'pandas.core.frame.DataFrame'>\n",
      "RangeIndex: 8685 entries, 0 to 8684\n",
      "Data columns (total 13 columns):\n",
      "population_total           8685 non-null float64\n",
      "age_median                 8685 non-null float64\n",
      "p_never_married            8685 non-null float64\n",
      "p_white                    8685 non-null float64\n",
      "p_black                    8685 non-null float64\n",
      "p_poverty                  8685 non-null float64\n",
      "household_income_median    8685 non-null float64\n",
      "home_value_median          8685 non-null float64\n",
      "structure_year_median      8685 non-null float64\n",
      "p_pop_renting              8685 non-null float64\n",
      "p_units_vacant             8685 non-null float64\n",
      "p_mobilehomes              8685 non-null float64\n",
      "p_multiple_unit_strucs     8685 non-null float64\n",
      "dtypes: float64(13)\n",
      "memory usage: 882.1 KB\n"
     ]
    }
   ],
   "source": [
    "filled = pd.DataFrame(fill, columns = incomplete.columns)\n",
    "filled.info()\n",
    "## note: might round values"
   ]
  },
  {
   "cell_type": "code",
   "execution_count": 12,
   "metadata": {},
   "outputs": [
    {
     "data": {
      "text/plain": [
       "901     57.705398\n",
       "3818    43.074146\n",
       "6945    31.142917\n",
       "Name: age_median, dtype: float64"
      ]
     },
     "execution_count": 12,
     "metadata": {},
     "output_type": "execute_result"
    }
   ],
   "source": [
    "filled.iloc[missing_indexes['age_median']]['age_median']"
   ]
  },
  {
   "cell_type": "code",
   "execution_count": 13,
   "metadata": {},
   "outputs": [
    {
     "data": {
      "text/plain": [
       "{'age_median': 8.371331625644459,\n",
       " 'home_value_median': 64.63047630901565,\n",
       " 'household_income_median': 5513.453182592002,\n",
       " 'p_mobilehomes': 0.027061111445119926,\n",
       " 'p_multiple_unit_strucs': 0.06738330287365307,\n",
       " 'p_pop_renting': 0.1818740243968352,\n",
       " 'p_units_vacant': 0.08684446363297696,\n",
       " 'structure_year_median': 4.929980667336395}"
      ]
     },
     "execution_count": 13,
     "metadata": {},
     "output_type": "execute_result"
    }
   ],
   "source": [
    "imputed_values = {}\n",
    "delta_imputed_mean = {}\n",
    "for c in missing_indexes.keys():\n",
    "    imputed_values[c] = filled[c].iloc[missing_indexes[c]].values\n",
    "    delta_imputed_mean[c] = abs(np.mean(imputed_values[c]) - np.mean(incomplete[c]))\n",
    "delta_imputed_mean"
   ]
  },
  {
   "cell_type": "code",
   "execution_count": 20,
   "metadata": {},
   "outputs": [
    {
     "name": "stdout",
     "output_type": "stream",
     "text": [
      "<class 'pandas.core.frame.DataFrame'>\n",
      "RangeIndex: 8685 entries, 0 to 8684\n",
      "Data columns (total 14 columns):\n",
      "population_total           8685 non-null float64\n",
      "age_median                 8685 non-null float64\n",
      "p_never_married            8685 non-null float64\n",
      "p_white                    8685 non-null float64\n",
      "p_black                    8685 non-null float64\n",
      "p_poverty                  8685 non-null float64\n",
      "household_income_median    8685 non-null float64\n",
      "home_value_median          8685 non-null float64\n",
      "structure_year_median      8685 non-null float64\n",
      "p_pop_renting              8685 non-null float64\n",
      "p_units_vacant             8685 non-null float64\n",
      "p_mobilehomes              8685 non-null float64\n",
      "p_multiple_unit_strucs     8685 non-null float64\n",
      "tract                      8685 non-null object\n",
      "dtypes: float64(13), object(1)\n",
      "memory usage: 950.0+ KB\n"
     ]
    }
   ],
   "source": [
    "# replace the tract numbers\n",
    "filled['tract'] = tract_ns\n",
    "filled.info()"
   ]
  },
  {
   "cell_type": "code",
   "execution_count": 22,
   "metadata": {},
   "outputs": [
    {
     "name": "stdout",
     "output_type": "stream",
     "text": [
      "<class 'pandas.core.frame.DataFrame'>\n",
      "Int64Index: 8685 entries, 0 to 8684\n",
      "Data columns (total 15 columns):\n",
      "population_total           8685 non-null float64\n",
      "age_median                 8685 non-null float64\n",
      "p_never_married            8685 non-null float64\n",
      "p_white                    8685 non-null float64\n",
      "p_black                    8685 non-null float64\n",
      "p_poverty                  8685 non-null float64\n",
      "household_income_median    8685 non-null float64\n",
      "home_value_median          8685 non-null float64\n",
      "structure_year_median      8685 non-null float64\n",
      "p_pop_renting              8685 non-null float64\n",
      "p_units_vacant             8685 non-null float64\n",
      "p_mobilehomes              8685 non-null float64\n",
      "p_multiple_unit_strucs     8685 non-null float64\n",
      "tract                      8685 non-null object\n",
      "Non-LIC                    8685 non-null int64\n",
      "dtypes: float64(13), int64(1), object(1)\n",
      "memory usage: 1.1+ MB\n"
     ]
    }
   ],
   "source": [
    "# add LIC column back\n",
    "LIC_one = pd.read_pickle(\"{}/qozs_1.pkl\".format(data_directory))[['census_tract_number', 'Non-LIC']]\n",
    "LIC_two = LIC_one.rename(columns={'census_tract_number':'tract'})\n",
    "filled = filled.merge(LIC_two, how='left', on='tract')\n",
    "filled.info()"
   ]
  },
  {
   "cell_type": "code",
   "execution_count": 24,
   "metadata": {},
   "outputs": [],
   "source": [
    "filled.to_pickle(\"{}/qoz_model_plusPR.pkl\".format(data_directory))"
   ]
  }
 ],
 "metadata": {
  "kernelspec": {
   "display_name": "Python 3",
   "language": "python",
   "name": "python3"
  },
  "language_info": {
   "codemirror_mode": {
    "name": "ipython",
    "version": 3
   },
   "file_extension": ".py",
   "mimetype": "text/x-python",
   "name": "python",
   "nbconvert_exporter": "python",
   "pygments_lexer": "ipython3",
   "version": "3.5.2"
  }
 },
 "nbformat": 4,
 "nbformat_minor": 4
}
