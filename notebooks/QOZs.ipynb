{
 "cells": [
  {
   "cell_type": "code",
   "execution_count": 1,
   "metadata": {},
   "outputs": [],
   "source": [
    "import pandas as pd\n",
    "import numpy as np"
   ]
  },
  {
   "cell_type": "code",
   "execution_count": 2,
   "metadata": {},
   "outputs": [],
   "source": [
    "import os\n",
    "this_directory = os.path.realpath(\".\")\n",
    "home_directory = os.path.split(this_directory)[0]\n",
    "data_directory = os.path.join(home_directory, \"data\")"
   ]
  },
  {
   "cell_type": "code",
   "execution_count": 3,
   "metadata": {},
   "outputs": [],
   "source": [
    "qozs = pd.read_csv(f\"{data_directory}/qozs.csv\")\n",
    "header = qozs.iloc[:4]\n",
    "qozs = qozs.iloc[4:]"
   ]
  },
  {
   "cell_type": "code",
   "execution_count": 4,
   "metadata": {},
   "outputs": [],
   "source": [
    "qozs.columns = [label.lower() for label in header.iloc[3].values]\n",
    "qozs = qozs.rename(columns={qozs.columns[0] : 'state'}).reset_index(drop=True)"
   ]
  },
  {
   "cell_type": "code",
   "execution_count": 5,
   "metadata": {},
   "outputs": [
    {
     "data": {
      "text/html": [
       "<div>\n",
       "<style scoped>\n",
       "    .dataframe tbody tr th:only-of-type {\n",
       "        vertical-align: middle;\n",
       "    }\n",
       "\n",
       "    .dataframe tbody tr th {\n",
       "        vertical-align: top;\n",
       "    }\n",
       "\n",
       "    .dataframe thead th {\n",
       "        text-align: right;\n",
       "    }\n",
       "</style>\n",
       "<table border=\"1\" class=\"dataframe\">\n",
       "  <thead>\n",
       "    <tr style=\"text-align: right;\">\n",
       "      <th></th>\n",
       "      <th>state</th>\n",
       "      <th>county</th>\n",
       "      <th>census tract number</th>\n",
       "      <th>tract type</th>\n",
       "      <th>acs data source</th>\n",
       "      <th>state_fips</th>\n",
       "      <th>county_fips</th>\n",
       "      <th>tract_no</th>\n",
       "      <th>Non-LIC</th>\n",
       "    </tr>\n",
       "  </thead>\n",
       "  <tbody>\n",
       "    <tr>\n",
       "      <th>0</th>\n",
       "      <td>Alabama</td>\n",
       "      <td>Autauga</td>\n",
       "      <td>01001020700</td>\n",
       "      <td>Low-Income Community</td>\n",
       "      <td>2011-2015</td>\n",
       "      <td>01</td>\n",
       "      <td>001</td>\n",
       "      <td>020700</td>\n",
       "      <td>0</td>\n",
       "    </tr>\n",
       "    <tr>\n",
       "      <th>1</th>\n",
       "      <td>Alabama</td>\n",
       "      <td>Baldwin</td>\n",
       "      <td>01003010200</td>\n",
       "      <td>Low-Income Community</td>\n",
       "      <td>2011-2015</td>\n",
       "      <td>01</td>\n",
       "      <td>003</td>\n",
       "      <td>010200</td>\n",
       "      <td>0</td>\n",
       "    </tr>\n",
       "    <tr>\n",
       "      <th>2</th>\n",
       "      <td>Alabama</td>\n",
       "      <td>Baldwin</td>\n",
       "      <td>01003010400</td>\n",
       "      <td>Non-LIC Contiguous</td>\n",
       "      <td>2011-2015</td>\n",
       "      <td>01</td>\n",
       "      <td>003</td>\n",
       "      <td>010400</td>\n",
       "      <td>1</td>\n",
       "    </tr>\n",
       "    <tr>\n",
       "      <th>3</th>\n",
       "      <td>Alabama</td>\n",
       "      <td>Baldwin</td>\n",
       "      <td>01003010500</td>\n",
       "      <td>Low-Income Community</td>\n",
       "      <td>2011-2015</td>\n",
       "      <td>01</td>\n",
       "      <td>003</td>\n",
       "      <td>010500</td>\n",
       "      <td>0</td>\n",
       "    </tr>\n",
       "    <tr>\n",
       "      <th>4</th>\n",
       "      <td>Alabama</td>\n",
       "      <td>Baldwin</td>\n",
       "      <td>01003010600</td>\n",
       "      <td>Low-Income Community</td>\n",
       "      <td>2011-2015</td>\n",
       "      <td>01</td>\n",
       "      <td>003</td>\n",
       "      <td>010600</td>\n",
       "      <td>0</td>\n",
       "    </tr>\n",
       "    <tr>\n",
       "      <th>...</th>\n",
       "      <td>...</td>\n",
       "      <td>...</td>\n",
       "      <td>...</td>\n",
       "      <td>...</td>\n",
       "      <td>...</td>\n",
       "      <td>...</td>\n",
       "      <td>...</td>\n",
       "      <td>...</td>\n",
       "      <td>...</td>\n",
       "    </tr>\n",
       "    <tr>\n",
       "      <th>8759</th>\n",
       "      <td>Wyoming</td>\n",
       "      <td>Platte</td>\n",
       "      <td>56031959100</td>\n",
       "      <td>Low-Income Community</td>\n",
       "      <td>2011-2015</td>\n",
       "      <td>56</td>\n",
       "      <td>031</td>\n",
       "      <td>959100</td>\n",
       "      <td>0</td>\n",
       "    </tr>\n",
       "    <tr>\n",
       "      <th>8760</th>\n",
       "      <td>Wyoming</td>\n",
       "      <td>Platte</td>\n",
       "      <td>56031959400</td>\n",
       "      <td>Low-Income Community</td>\n",
       "      <td>2011-2015</td>\n",
       "      <td>56</td>\n",
       "      <td>031</td>\n",
       "      <td>959400</td>\n",
       "      <td>0</td>\n",
       "    </tr>\n",
       "    <tr>\n",
       "      <th>8761</th>\n",
       "      <td>Wyoming</td>\n",
       "      <td>Sweetwater</td>\n",
       "      <td>56037970903</td>\n",
       "      <td>Low-Income Community</td>\n",
       "      <td>2011-2015</td>\n",
       "      <td>56</td>\n",
       "      <td>037</td>\n",
       "      <td>970903</td>\n",
       "      <td>0</td>\n",
       "    </tr>\n",
       "    <tr>\n",
       "      <th>8762</th>\n",
       "      <td>Wyoming</td>\n",
       "      <td>Uinta</td>\n",
       "      <td>56041975400</td>\n",
       "      <td>Low-Income Community</td>\n",
       "      <td>2011-2015</td>\n",
       "      <td>56</td>\n",
       "      <td>041</td>\n",
       "      <td>975400</td>\n",
       "      <td>0</td>\n",
       "    </tr>\n",
       "    <tr>\n",
       "      <th>8763</th>\n",
       "      <td>Wyoming</td>\n",
       "      <td>Washakie</td>\n",
       "      <td>56043000301</td>\n",
       "      <td>Low-Income Community</td>\n",
       "      <td>2011-2015</td>\n",
       "      <td>56</td>\n",
       "      <td>043</td>\n",
       "      <td>000301</td>\n",
       "      <td>0</td>\n",
       "    </tr>\n",
       "  </tbody>\n",
       "</table>\n",
       "<p>8764 rows × 9 columns</p>\n",
       "</div>"
      ],
      "text/plain": [
       "        state      county census tract number            tract type  \\\n",
       "0     Alabama     Autauga         01001020700  Low-Income Community   \n",
       "1     Alabama     Baldwin         01003010200  Low-Income Community   \n",
       "2     Alabama     Baldwin         01003010400    Non-LIC Contiguous   \n",
       "3     Alabama     Baldwin         01003010500  Low-Income Community   \n",
       "4     Alabama     Baldwin         01003010600  Low-Income Community   \n",
       "...       ...         ...                 ...                   ...   \n",
       "8759  Wyoming      Platte         56031959100  Low-Income Community   \n",
       "8760  Wyoming      Platte         56031959400  Low-Income Community   \n",
       "8761  Wyoming  Sweetwater         56037970903  Low-Income Community   \n",
       "8762  Wyoming       Uinta         56041975400  Low-Income Community   \n",
       "8763  Wyoming    Washakie         56043000301  Low-Income Community   \n",
       "\n",
       "     acs data source state_fips county_fips tract_no  Non-LIC  \n",
       "0          2011-2015         01         001   020700        0  \n",
       "1          2011-2015         01         003   010200        0  \n",
       "2          2011-2015         01         003   010400        1  \n",
       "3          2011-2015         01         003   010500        0  \n",
       "4          2011-2015         01         003   010600        0  \n",
       "...              ...        ...         ...      ...      ...  \n",
       "8759       2011-2015         56         031   959100        0  \n",
       "8760       2011-2015         56         031   959400        0  \n",
       "8761       2011-2015         56         037   970903        0  \n",
       "8762       2011-2015         56         041   975400        0  \n",
       "8763       2011-2015         56         043   000301        0  \n",
       "\n",
       "[8764 rows x 9 columns]"
      ]
     },
     "execution_count": 5,
     "metadata": {},
     "output_type": "execute_result"
    }
   ],
   "source": [
    "qozs['state_fips'] = qozs[\"census tract number\"].apply(lambda x : x[:2])\n",
    "qozs['county_fips'] = qozs[\"census tract number\"].apply(lambda x : x[2:5])\n",
    "qozs['tract_no'] = qozs[\"census tract number\"].apply(lambda x : x[5:])\n",
    "qozs['Non-LIC'] = qozs[\"tract type\"].apply(lambda row : 0 if row == \"Low-Income Community\" else 1)\n",
    "qozs"
   ]
  },
  {
   "cell_type": "code",
   "execution_count": 6,
   "metadata": {},
   "outputs": [],
   "source": [
    "new_columns = [column.replace(\" \", \"_\") for column in qozs.columns]\n",
    "qozs.columns = new_columns"
   ]
  },
  {
   "cell_type": "code",
   "execution_count": 7,
   "metadata": {},
   "outputs": [],
   "source": [
    "### ----\n",
    "qozs.to_pickle(f'{data_directory}/qozs_clean.pkl')"
   ]
  },
  {
   "cell_type": "code",
   "execution_count": 8,
   "metadata": {},
   "outputs": [
    {
     "data": {
      "text/plain": [
       "0       01001020700\n",
       "1       01003010200\n",
       "2       01003010400\n",
       "3       01003010500\n",
       "4       01003010600\n",
       "           ...     \n",
       "8759    56031959100\n",
       "8760    56031959400\n",
       "8761    56037970903\n",
       "8762    56041975400\n",
       "8763    56043000301\n",
       "Name: census_tract_number, Length: 8764, dtype: object"
      ]
     },
     "execution_count": 8,
     "metadata": {},
     "output_type": "execute_result"
    }
   ],
   "source": [
    "QOZs = pd.read_pickle(f\"{data_directory}/qozs_clean.pkl\")['census_tract_number'].astype(str)\n",
    "QOZs"
   ]
  },
  {
   "cell_type": "code",
   "execution_count": 40,
   "metadata": {},
   "outputs": [
    {
     "data": {
      "text/html": [
       "<div>\n",
       "<style scoped>\n",
       "    .dataframe tbody tr th:only-of-type {\n",
       "        vertical-align: middle;\n",
       "    }\n",
       "\n",
       "    .dataframe tbody tr th {\n",
       "        vertical-align: top;\n",
       "    }\n",
       "\n",
       "    .dataframe thead th {\n",
       "        text-align: right;\n",
       "    }\n",
       "</style>\n",
       "<table border=\"1\" class=\"dataframe\">\n",
       "  <thead>\n",
       "    <tr style=\"text-align: right;\">\n",
       "      <th></th>\n",
       "      <th>state</th>\n",
       "      <th>county</th>\n",
       "      <th>census_tract_number</th>\n",
       "      <th>tract_type</th>\n",
       "      <th>acs_data_source</th>\n",
       "      <th>state_fips</th>\n",
       "      <th>county_fips</th>\n",
       "      <th>tract_no</th>\n",
       "      <th>Non-LIC</th>\n",
       "    </tr>\n",
       "  </thead>\n",
       "  <tbody>\n",
       "    <tr>\n",
       "      <th>2658</th>\n",
       "      <td>Illinois</td>\n",
       "      <td>White</td>\n",
       "      <td>17193958000</td>\n",
       "      <td>Low-Income Community</td>\n",
       "      <td>2011-2015</td>\n",
       "      <td>17</td>\n",
       "      <td>193</td>\n",
       "      <td>958000</td>\n",
       "      <td>0</td>\n",
       "    </tr>\n",
       "  </tbody>\n",
       "</table>\n",
       "</div>"
      ],
      "text/plain": [
       "         state county census_tract_number            tract_type  \\\n",
       "2658  Illinois  White         17193958000  Low-Income Community   \n",
       "\n",
       "     acs_data_source state_fips county_fips tract_no  Non-LIC  \n",
       "2658       2011-2015         17         193   958000        0  "
      ]
     },
     "execution_count": 40,
     "metadata": {},
     "output_type": "execute_result"
    }
   ],
   "source": [
    "qozs[qozs[\"census_tract_number\"] == '17193958000']"
   ]
  },
  {
   "cell_type": "code",
   "execution_count": 35,
   "metadata": {},
   "outputs": [
    {
     "data": {
      "text/plain": [
       "'010'"
      ]
     },
     "execution_count": 35,
     "metadata": {},
     "output_type": "execute_result"
    }
   ],
   "source": [
    "v = QOZs.iloc[183]\n",
    "v[2:5]"
   ]
  }
 ],
 "metadata": {
  "kernelspec": {
   "display_name": "Python 3",
   "language": "python",
   "name": "python3"
  },
  "language_info": {
   "codemirror_mode": {
    "name": "ipython",
    "version": 3
   },
   "file_extension": ".py",
   "mimetype": "text/x-python",
   "name": "python",
   "nbconvert_exporter": "python",
   "pygments_lexer": "ipython3",
   "version": "3.7.6"
  }
 },
 "nbformat": 4,
 "nbformat_minor": 4
}
