{
 "cells": [
  {
   "cell_type": "code",
   "execution_count": 200,
   "metadata": {},
   "outputs": [],
   "source": [
    "import pandas as pd\n",
    "import numpy as np\n",
    "import matplotlib.pyplot as plt\n",
    "import seaborn as sns\n",
    "plt.style.use('seaborn')"
   ]
  },
  {
   "cell_type": "code",
   "execution_count": 201,
   "metadata": {},
   "outputs": [],
   "source": [
    "import os\n",
    "this_directory = os.path.realpath(\".\")\n",
    "home_directory = os.path.split(this_directory)[0]\n",
    "data_directory = os.path.join(home_directory, \"data\")\n",
    "images_directory = os.path.join(home_directory, \"images\")"
   ]
  },
  {
   "cell_type": "code",
   "execution_count": 228,
   "metadata": {},
   "outputs": [
    {
     "name": "stdout",
     "output_type": "stream",
     "text": [
      "<class 'pandas.core.frame.DataFrame'>\n",
      "RangeIndex: 8685 entries, 0 to 8684\n",
      "Data columns (total 16 columns):\n",
      "population_total           8685 non-null float64\n",
      "age_median                 8682 non-null float64\n",
      "p_never_married            8685 non-null float64\n",
      "p_white                    8685 non-null float64\n",
      "p_black                    8685 non-null float64\n",
      "p_poverty                  8685 non-null float64\n",
      "household_income_median    8657 non-null float64\n",
      "home_value_median          8382 non-null float64\n",
      "structure_year_median      8661 non-null float64\n",
      "p_outofcountyflux          7822 non-null float64\n",
      "p_pop_renting              8679 non-null float64\n",
      "p_units_vacant             8679 non-null float64\n",
      "p_mobilehomes              8679 non-null float64\n",
      "p_multiple_unit_strucs     8679 non-null float64\n",
      "state                      8685 non-null object\n",
      "tract                      8685 non-null object\n",
      "dtypes: float64(14), object(2)\n",
      "memory usage: 1.1+ MB\n"
     ]
    }
   ],
   "source": [
    "features = pd.read_pickle(\"{}/qozs_features.pkl\".format(data_directory))\n",
    "features.reset_index(inplace=True, drop=True)\n",
    "features.info()"
   ]
  },
  {
   "cell_type": "markdown",
   "metadata": {},
   "source": [
    "# Can skip this part if you have already generated state_info.pkl"
   ]
  },
  {
   "cell_type": "code",
   "execution_count": 209,
   "metadata": {},
   "outputs": [],
   "source": [
    "state_numbers = np.unique(features['state'])\n",
    "state_info = pd.DataFrame(state_numbers, columns=['fips'])"
   ]
  },
  {
   "cell_type": "code",
   "execution_count": 210,
   "metadata": {},
   "outputs": [],
   "source": [
    "from us import states\n",
    "## add name\n",
    "fips_to_name = states.mapping('fips', 'name')\n",
    "state_info['name'] = state_info['fips'].apply(lambda row : fips_to_name[row])\n",
    "## add abbr\n",
    "fips_to_abbr = states.mapping('fips', 'abbr')\n",
    "state_info['abbr'] = state_info['fips'].apply(lambda row : fips_to_abbr[row])"
   ]
  },
  {
   "cell_type": "code",
   "execution_count": 211,
   "metadata": {},
   "outputs": [],
   "source": [
    "## add number of OZs\n",
    "state_info['n_ozs'] = features.groupby('state').agg({'state':'count'})['state'].values"
   ]
  },
  {
   "cell_type": "code",
   "execution_count": 212,
   "metadata": {},
   "outputs": [
    {
     "data": {
      "text/plain": [
       "1181"
      ]
     },
     "execution_count": 212,
     "metadata": {},
     "output_type": "execute_result"
    }
   ],
   "source": [
    "## add number of tracts\n",
    "census_key = \"be526a50bd1d95edbf21709b4e5c72a3c0436af0\"\n",
    "from census import Census\n",
    "c = Census(key=census_key, year=2015)\n",
    "len(c.acs5.get('B01003_001E', {'for' : f'tract:*', 'in' : f'state:01 county:*'}))"
   ]
  },
  {
   "cell_type": "code",
   "execution_count": 213,
   "metadata": {},
   "outputs": [],
   "source": [
    "n_tracts = []\n",
    "for state in state_info.fips.values:\n",
    "    n = len(c.acs5.get('B01003_001E', {'for' : 'tract:*', 'in' : f'state:{state} county:*'}))\n",
    "    n_tracts.append(n)\n",
    "    #print(f'{state_info[state_info.fips == state].name.values[0]} has {n} census tracts.')\n",
    "state_info['n_tracts'] = n_tracts"
   ]
  },
  {
   "cell_type": "code",
   "execution_count": 214,
   "metadata": {},
   "outputs": [],
   "source": [
    "state_info.to_pickle(f\"{data_directory}/states.pkl\")"
   ]
  },
  {
   "cell_type": "markdown",
   "metadata": {},
   "source": [
    "# Start here!"
   ]
  },
  {
   "cell_type": "code",
   "execution_count": 229,
   "metadata": {},
   "outputs": [],
   "source": [
    "state_info = pd.read_pickle(f\"{data_directory}/states.pkl\")"
   ]
  },
  {
   "cell_type": "code",
   "execution_count": 230,
   "metadata": {},
   "outputs": [
    {
     "name": "stdout",
     "output_type": "stream",
     "text": [
      "Top 10 States : ['PR' 'WY' 'MS' 'AK' 'DC' 'VT' 'AL' 'GA' 'LA' 'KY']\n"
     ]
    },
    {
     "data": {
      "image/png": "[encoded data removed]",
      "text/plain": [
       "<Figure size 864x576 with 1 Axes>"
      ]
     },
     "metadata": {},
     "output_type": "display_data"
    }
   ],
   "source": [
    "## OZs as proportion of all census tracts in a state\n",
    "sns.set_context('paper')\n",
    "fig, ax = plt.subplots(figsize=(12,8))\n",
    "\n",
    "p_ozs = state_info['n_ozs'].values / state_info['n_tracts'].values\n",
    "sort_i = np.argsort(p_ozs)[::-1]\n",
    "x = np.arange(len(p_ozs))\n",
    "\n",
    "ax.bar(x, p_ozs[sort_i], label = f\"Top 10 States : \\n {state_info.abbr.values[sort_i][:10]}\")\n",
    "ax.set_title(\"OZs as proportion of all Census Tracts by State\", fontsize=16)\n",
    "ax.set_xticks([])\n",
    "ax.set_yticklabels(np.round(ax.get_yticks(), 2), fontsize=14)\n",
    "ax.annotate('Puerto Rico', (40, 160), xytext = (80, 180),\\\n",
    "            xycoords='axes points', arrowprops={'arrowstyle':'simple'}, fontsize=16)\n",
    "#fig.legend(loc=(10,10))\n",
    "\n",
    "plt.savefig(f\"{images_directory}/ozs_by_states.png\", dpi=120)\n",
    "print(f\"Top 10 States : {state_info.abbr.values[sort_i][:10]}\")"
   ]
  },
  {
   "cell_type": "code",
   "execution_count": 231,
   "metadata": {},
   "outputs": [],
   "source": [
    "# Tracts by state w/o Puerto Rico\n",
    "# fig, ax = plt.subplots(figsize=(12,8))\n",
    "\n",
    "# ax.bar(x[1:], p_ozs[sort_i][1:])\n",
    "# ax.set_title(\"Without Puerto Rico\", fontsize=16)\n",
    "# ax.set_xticks([])\n",
    "# ax.set_yticklabels(np.round(ax.get_yticks(), 2), fontsize=14)\n",
    "\n",
    "# plt.savefig(f\"{images_directory}/ozs_by_state_wo_PR.png\", dpi=120)"
   ]
  },
  {
   "cell_type": "code",
   "execution_count": 232,
   "metadata": {},
   "outputs": [
    {
     "data": {
      "text/plain": [
       "'age_median'"
      ]
     },
     "execution_count": 232,
     "metadata": {},
     "output_type": "execute_result"
    }
   ],
   "source": [
    "plotter_features = features.drop(columns=['tract', 'state'])\n",
    "plotter_features.columns[1]"
   ]
  },
  {
   "cell_type": "code",
   "execution_count": 233,
   "metadata": {},
   "outputs": [],
   "source": [
    "PR = features[features['state'] == '72']\n",
    "all_others = features[features['state'] != '72']"
   ]
  },
  {
   "cell_type": "code",
   "execution_count": 234,
   "metadata": {},
   "outputs": [
    {
     "data": {
      "text/plain": [
       "population_total                    15\n",
       "age_median                         NaN\n",
       "p_never_married                      1\n",
       "p_white                              1\n",
       "p_black                              0\n",
       "p_poverty                            1\n",
       "household_income_median            NaN\n",
       "home_value_median                  NaN\n",
       "structure_year_median              NaN\n",
       "p_outofcountyflux                  NaN\n",
       "p_pop_renting                        1\n",
       "p_units_vacant                   0.632\n",
       "p_mobilehomes                        0\n",
       "p_multiple_unit_strucs               0\n",
       "state                               72\n",
       "tract                      72127980000\n",
       "Name: 6945, dtype: object"
      ]
     },
     "execution_count": 234,
     "metadata": {},
     "output_type": "execute_result"
    }
   ],
   "source": [
    "## make sure the big negative numbers were replaced with nans\n",
    "features.iloc[6945]"
   ]
  },
  {
   "cell_type": "code",
   "execution_count": 252,
   "metadata": {},
   "outputs": [
    {
     "data": {
      "text/plain": [
       "<function matplotlib.pyplot.show(*args, **kw)>"
      ]
     },
     "execution_count": 252,
     "metadata": {},
     "output_type": "execute_result"
    },
    {
     "data": {
      "image/png": "[encoded data removed]",
      "text/plain": [
       "<Figure size 648x432 with 1 Axes>"
      ]
     },
     "metadata": {},
     "output_type": "display_data"
    }
   ],
   "source": [
    "fig, ax = plt.subplots(figsize=(9, 6))\n",
    "\n",
    "f = plotter_features.columns[8]\n",
    "b = 30\n",
    "\n",
    "y_PR = PR[f].dropna().values\n",
    "y_others = all_others[f].dropna().values\n",
    "ax.hist(y_PR, bins=b, density=True, alpha=0.8)\n",
    "ax.hist(y_others, bins=b, density=True, alpha=0.6, color='orange')\n",
    "ax.set_title(f\"{f} Distribution\", fontsize=14)\n",
    "plt.show\n",
    "\n",
    "# plt.savefig(f\"{images_directory}/{feature}_dist.png\", dpi=120)\n",
    "# features to go look back at : \n",
    "## structure year median - looks like PR has many more homes built 1940 (or before)\n",
    "## multiple unit strucs – in general PR has more units per structure, \n",
    "## although maybe my definition of this feature isn't good"
   ]
  }
 ],
 "metadata": {
  "kernelspec": {
   "display_name": "Python 3",
   "language": "python",
   "name": "python3"
  },
  "language_info": {
   "codemirror_mode": {
    "name": "ipython",
    "version": 3
   },
   "file_extension": ".py",
   "mimetype": "text/x-python",
   "name": "python",
   "nbconvert_exporter": "python",
   "pygments_lexer": "ipython3",
   "version": "3.7.6"
  }
 },
 "nbformat": 4,
 "nbformat_minor": 4
}
